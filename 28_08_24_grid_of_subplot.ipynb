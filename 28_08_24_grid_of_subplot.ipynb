{
  "nbformat": 4,
  "nbformat_minor": 0,
  "metadata": {
    "colab": {
      "provenance": [],
      "authorship_tag": "ABX9TyOheU5icFD7hjOJnnMLJUn7",
      "include_colab_link": true
    },
    "kernelspec": {
      "name": "python3",
      "display_name": "Python 3"
    },
    "language_info": {
      "name": "python"
    }
  },
  "cells": [
    {
      "cell_type": "markdown",
      "metadata": {
        "id": "view-in-github",
        "colab_type": "text"
      },
      "source": [
        "<a href=\"https://colab.research.google.com/github/annapureddypravallika/datascience-tutorial/blob/main/28_08_24_grid_of_subplot.ipynb\" target=\"_parent\"><img src=\"https://colab.research.google.com/assets/colab-badge.svg\" alt=\"Open In Colab\"/></a>"
      ]
    },
    {
      "cell_type": "code",
      "execution_count": null,
      "metadata": {
        "id": "wyQS5LKkWmx8"
      },
      "outputs": [],
      "source": [
        "import matplotlib.pyplot as plt\n",
        "#creating a2x2 grid ofsubplots\n",
        "fig,ax=plt.subplots(1,4)\n",
        "#acessing individual axes (subplots)\n",
        "ax[0].plot([1,2,3],[4,5,6])\n",
        "ax[1].scatter([1,2,3],[4,5,6])\n",
        "ax[2].bar([1,2,3],[4,5,6])\n",
        "ax[3].hist([1,2,3,3,3,4,4,4,4,5,5,5])\n",
        "plt.show()"
      ]
    },
    {
      "cell_type": "code",
      "source": [],
      "metadata": {
        "id": "_ctbStWoWztl"
      },
      "execution_count": null,
      "outputs": []
    }
  ]
}